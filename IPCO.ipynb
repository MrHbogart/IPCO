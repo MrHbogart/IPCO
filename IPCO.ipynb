{
  "cells": [
    {
      "cell_type": "code",
      "execution_count": 1,
      "metadata": {
        "colab": {
          "base_uri": "https://localhost:8080/"
        },
        "id": "e94tqSIDujYO",
        "outputId": "c7202c82-e666-4d3c-9b18-fe8179c976c0"
      },
      "outputs": [
        {
          "name": "stdout",
          "output_type": "stream",
          "text": [
            "\u001b[K     |████████████████████████████████| 135 kB 31.4 MB/s \n",
            "\u001b[K     |████████████████████████████████| 1.6 MB 58.5 MB/s \n",
            "\u001b[?25h"
          ]
        }
      ],
      "source": [
        "!pip install -q -U keras-tuner"
      ]
    },
    {
      "cell_type": "code",
      "execution_count": 2,
      "metadata": {
        "colab": {
          "base_uri": "https://localhost:8080/"
        },
        "id": "162bQAR_uiSr",
        "outputId": "030c91cf-dd6a-476b-d843-6a0301b05d98"
      },
      "outputs": [
        {
          "name": "stdout",
          "output_type": "stream",
          "text": [
            "GPUs Available:  1\n"
          ]
        }
      ],
      "source": [
        "import pandas as pd\n",
        "import numpy as np\n",
        "import matplotlib.pyplot as plt\n",
        "import keras_tuner as kt\n",
        "import tensorflow as tf\n",
        "from tensorflow import keras\n",
        "from keras.utils.vis_utils import plot_model\n",
        "from keras.models import Model\n",
        "from keras.layers import Input\n",
        "from keras.layers import Dense\n",
        "from keras.layers import Flatten\n",
        "from keras.layers import Dropout\n",
        "from keras.layers.merge import concatenate\n",
        "from sklearn.model_selection import train_test_split\n",
        "\n",
        "\n",
        "physical_devices = tf.config.experimental.list_physical_devices('GPU')\n",
        "print(\"GPUs Available: \", len(physical_devices))\n",
        "tf.config.experimental.set_memory_growth(physical_devices[0], True)"
      ]
    },
    {
      "cell_type": "code",
      "execution_count": 3,
      "metadata": {
        "id": "WIJEJ_6nnSL_"
      },
      "outputs": [],
      "source": [
        "dfs = []\n",
        "for i in range(0, 13, 2):\n",
        "    dfs.append(pd.read_excel(\"small.xlsx\", sheet_name=i).iloc[3:, :])"
      ]
    },
    {
      "cell_type": "code",
      "execution_count": 11,
      "metadata": {
        "colab": {
          "base_uri": "https://localhost:8080/"
        },
        "id": "Ms6UF2dLsI4q",
        "outputId": "ea979ee3-7951-4324-c730-5a35cf429bad"
      },
      "outputs": [
        {
          "data": {
            "text/plain": [
              "(1640, 13)"
            ]
          },
          "execution_count": 11,
          "metadata": {},
          "output_type": "execute_result"
        }
      ],
      "source": [
        "df = pd.concat(dfs)\n",
        "df = df.iloc[:, [1, 2, 3, 5, 6, 7, 8, 9, 10, 18, 20, 24, 27]]\n",
        "df.shape"
      ]
    },
    {
      "cell_type": "code",
      "execution_count": 12,
      "metadata": {
        "colab": {
          "base_uri": "https://localhost:8080/"
        },
        "id": "gCbwMTIzwNry",
        "outputId": "a276144d-af78-4ae6-d0e7-208cd98e61cf"
      },
      "outputs": [
        {
          "data": {
            "text/plain": [
              "(684, 13)"
            ]
          },
          "execution_count": 12,
          "metadata": {},
          "output_type": "execute_result"
        }
      ],
      "source": [
        "df.dropna(inplace = True)\n",
        "df.shape"
      ]
    },
    {
      "cell_type": "code",
      "execution_count": 28,
      "metadata": {
        "id": "Yuj71SgDyKJb"
      },
      "outputs": [],
      "source": [
        "df = df.apply(pd.to_numeric)"
      ]
    },
    {
      "cell_type": "code",
      "execution_count": 29,
      "metadata": {
        "id": "8Wb8PWCxnaiD"
      },
      "outputs": [],
      "source": [
        "X = df.iloc[:,[0, 1, 3, 4, 5]].copy()\n",
        "Y = df.iloc[:,[2, 6, 7, 8, 9, 10, 11, 12]].copy()"
      ]
    },
    {
      "cell_type": "code",
      "execution_count": 30,
      "metadata": {
        "colab": {
          "base_uri": "https://localhost:8080/"
        },
        "id": "fjM_i6Q_rl5K",
        "outputId": "844aa943-628f-46ee-afdf-1dcb35592395"
      },
      "outputs": [
        {
          "data": {
            "text/plain": [
              "(684, 5)"
            ]
          },
          "execution_count": 30,
          "metadata": {},
          "output_type": "execute_result"
        }
      ],
      "source": [
        "X.shape"
      ]
    },
    {
      "cell_type": "code",
      "execution_count": 31,
      "metadata": {
        "id": "ezFI0gJst3Ga"
      },
      "outputs": [],
      "source": [
        "from sklearn import preprocessing\n",
        "X = X.values #returns a numpy array\n",
        "min_max_scaler = preprocessing.MinMaxScaler()\n",
        "x_scaled = min_max_scaler.fit_transform(X)"
      ]
    },
    {
      "cell_type": "code",
      "execution_count": 32,
      "metadata": {
        "colab": {
          "base_uri": "https://localhost:8080/"
        },
        "id": "5ovnE6OzuVQl",
        "outputId": "d74c5a37-9fe7-49f8-955c-6ad24c46f5c0"
      },
      "outputs": [
        {
          "data": {
            "text/plain": [
              "(684, 5)"
            ]
          },
          "execution_count": 32,
          "metadata": {},
          "output_type": "execute_result"
        }
      ],
      "source": [
        "x_scaled.shape"
      ]
    },
    {
      "cell_type": "code",
      "execution_count": 33,
      "metadata": {
        "id": "QfSAztIuu_Hs"
      },
      "outputs": [],
      "source": [
        "X_train, X_test, y_train, y_test = train_test_split(x_scaled, Y, test_size=0.2, random_state=42)"
      ]
    },
    {
      "cell_type": "code",
      "execution_count": 34,
      "metadata": {
        "id": "uw5WjcbTua5y"
      },
      "outputs": [],
      "source": [
        "def model_builder(hp):\n",
        "    input = Input(shape=(X_train.shape[1]), name=\"Input\")\n",
        "\n",
        "    x = Dense(256, activation=\"ReLU\")(input)\n",
        "    x = Dropout(0.2)(x)\n",
        "\n",
        "\n",
        "    x = Dense(256, activation=\"ReLU\")(x)\n",
        "    x = Dropout(0.2)(x)\n",
        "\n",
        "\n",
        "    x = Dense(256, activation=\"ReLU\")(x)\n",
        "    x = Dropout(0.2)(x)\n",
        "\n",
        "    x = Dense(256, activation=\"ReLU\")(x)\n",
        "\n",
        "    # x = Dense(256, activation=\"ReLU\")(x)\n",
        "\n",
        "\n",
        "    output = Dense(y_train.shape[1])(x)\n",
        "\n",
        "    model = Model(inputs=input, outputs=output)\n",
        "    \n",
        "\n",
        "\n",
        "    # Tune the learning rate for the optimizer\n",
        "    hp_learning_rate = hp.Choice('learning_rate', values=[1e-2, 1e-3, 1e-4, 1e-5])\n",
        "\n",
        "    hp_decay = hp.Choice('decay', values=[0.99, 0.95, 0.9])\n",
        "\n",
        "    opt = tf.keras.optimizers.Adam(\n",
        "        learning_rate=hp_learning_rate,\n",
        "        decay=hp_decay\n",
        "    )\n",
        "\n",
        "    model.compile(optimizer=opt,\n",
        "                loss='mse',\n",
        "                metrics=['mse'])\n",
        "\n",
        "\n",
        "\n",
        "    # print(model.summary())\n",
        "    plot_model(model, to_file='model.png', show_shapes=True)\n",
        "    return model"
      ]
    },
    {
      "cell_type": "code",
      "execution_count": 35,
      "metadata": {
        "id": "2mb0WzW6upud"
      },
      "outputs": [],
      "source": [
        "%rm -r /content/drive/MyDrive/IPCO/kat/IPCO"
      ]
    },
    {
      "cell_type": "code",
      "execution_count": 36,
      "metadata": {
        "id": "7BZojNV1utBp"
      },
      "outputs": [],
      "source": [
        "tuner = kt.Hyperband(model_builder,\n",
        "                     objective='val_mse',\n",
        "                     max_epochs=100,\n",
        "                     factor=16,\n",
        "                     directory='/kat',\n",
        "                     project_name='IPCO')"
      ]
    },
    {
      "cell_type": "code",
      "execution_count": 37,
      "metadata": {
        "id": "COkQhUdIuvQW"
      },
      "outputs": [],
      "source": [
        "stop_early = tf.keras.callbacks.EarlyStopping(monitor='val_mse', patience=4)"
      ]
    },
    {
      "cell_type": "code",
      "execution_count": 38,
      "metadata": {
        "colab": {
          "base_uri": "https://localhost:8080/"
        },
        "id": "RkBX7yCiuxG1",
        "outputId": "121a63e1-f18f-49f8-aa2f-215902e6551a"
      },
      "outputs": [
        {
          "name": "stdout",
          "output_type": "stream",
          "text": [
            "Trial 12 Complete [00h 00m 02s]\n",
            "val_mse: 27536276.0\n",
            "\n",
            "Best val_mse So Far: 27374444.0\n",
            "Total elapsed time: 00h 00m 27s\n"
          ]
        }
      ],
      "source": [
        "tuner.search(X_train, y_train, validation_data=(X_test, y_test), callbacks=[stop_early])\n",
        "\n",
        "# Get the optimal hyperparameters\n",
        "best_hps=tuner.get_best_hyperparameters()[0]"
      ]
    },
    {
      "cell_type": "code",
      "execution_count": null,
      "metadata": {
        "id": "o5JPUZTHuzTM"
      },
      "outputs": [],
      "source": [
        "best_hps.values"
      ]
    },
    {
      "cell_type": "code",
      "execution_count": null,
      "metadata": {
        "id": "L-2n2-vzu1V8"
      },
      "outputs": [],
      "source": [
        "best_model = tuner.get_best_models()[0]"
      ]
    },
    {
      "cell_type": "code",
      "execution_count": null,
      "metadata": {
        "id": "z1VBKd9Gu28A"
      },
      "outputs": [],
      "source": [
        "history = best_model.fit(x=X_train, y=y_train, batch_size=64, epochs=100,\n",
        "                    verbose=1, validation_data=[X_test, y_test])"
      ]
    }
  ],
  "metadata": {
    "accelerator": "GPU",
    "colab": {
      "name": "IPCO.ipynb",
      "provenance": []
    },
    "gpuClass": "standard",
    "kernelspec": {
      "display_name": "Python 3",
      "name": "python3"
    },
    "language_info": {
      "name": "python"
    }
  },
  "nbformat": 4,
  "nbformat_minor": 0
}
